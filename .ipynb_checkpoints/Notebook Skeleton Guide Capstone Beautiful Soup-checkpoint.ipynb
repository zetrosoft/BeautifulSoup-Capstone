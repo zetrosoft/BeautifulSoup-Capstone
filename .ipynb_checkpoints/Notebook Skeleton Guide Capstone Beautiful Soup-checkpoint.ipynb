{
 "cells": [
  {
   "cell_type": "markdown",
   "metadata": {},
   "source": [
    "# Capstone Webscrapping using BeautifulSoup\n",
    "\n",
    "This notebook contains guidances & tasks on the data processing for the application\n",
    "\n",
    "(Please insert the background here )\n",
    "\n",
    "\n",
    "## Requesting the Data and Creating a BeautifulSoup\n",
    "\n",
    "Let's begin with requesting the web from the site with `get` method."
   ]
  },
  {
   "cell_type": "code",
   "execution_count": 113,
   "metadata": {
    "ExecuteTime": {
     "end_time": "2020-01-13T05:12:23.275508Z",
     "start_time": "2020-01-13T05:12:20.009898Z"
    }
   },
   "outputs": [
    {
     "data": {
      "text/plain": [
       "<Response [200]>"
      ]
     },
     "execution_count": 113,
     "metadata": {},
     "output_type": "execute_result"
    }
   ],
   "source": [
    "import requests\n",
    "\n",
    "url_get = requests.get('https://www.exchange-rates.org/history/IDR/USD/T')\n",
    "url_get"
   ]
  },
  {
   "cell_type": "markdown",
   "metadata": {},
   "source": [
    "To visualize what exactly you get from the `request.get`, we can use .content so ee what we exactly get, in here i slice it so it won't make our screen full of the html we get from the page. You can delete the slicing if you want to see what we fully get."
   ]
  },
  {
   "cell_type": "code",
   "execution_count": 114,
   "metadata": {
    "ExecuteTime": {
     "end_time": "2020-01-13T05:12:23.290648Z",
     "start_time": "2020-01-13T05:12:23.277650Z"
    }
   },
   "outputs": [
    {
     "data": {
      "text/plain": [
       "b'\\n<!DOCTYPE html>\\r\\n<!--[if lt IE 9]>\\r\\n    <html class=\"no-js ie8 oldie\" lang=\\'en\\' xml:lang=\\'en\\'>\\r\\n<![endif]-->\\r\\n<!--[if gt IE 8]><!--> <html class=\"no-js\" lang=\\'en\\' xml:lang=\\'en\\'> <!--<![endif]-->\\r\\n<head><title>Indonesian Rupiah Exchange Rate - US Dollar - Historical Exchange Rates</title>\\n<meta http-equiv=\"X-UA-Compatible\" content=\"IE=edge\">\\n<meta content=\"C#\" name=\"CODE_LANGUAGE\" />\\n<meta content=\"JavaScript\" name=\"vs_defaultClientScript\" />\\n<meta content=\"http://schemas.microsoft.com/intellisense/ie5\" name=\"vs_targetSchema\" />\\n<meta name=\"viewport\" content=\"width=device-width, initial-scale=1, maximum-scale=5\">\\n<meta http-equiv=\"Content-Type\" content=\"text/html; charset=utf-8\" />\\n\\n<meta name=\"mapping\" content=\"AP\" />\\n<base href=\"https://www.exchange-rates.org/\" />'"
      ]
     },
     "execution_count": 114,
     "metadata": {},
     "output_type": "execute_result"
    }
   ],
   "source": [
    "url_get.content[1:777]"
   ]
  },
  {
   "cell_type": "markdown",
   "metadata": {},
   "source": [
    "As we can see we get a very unstructured and complex html, which actually contains the codes needed to show the webpages on your web browser. But we as human still confused what and where we can use that piece of code, so here where we use the beautifulsoup. Beautiful soup class will result a beautifulsoup object. Beautiful Soup transforms a complex HTML document into a complex tree of Python objects. \n",
    "\n",
    "Let's make Beautiful soup object and feel free to explore the object here."
   ]
  },
  {
   "cell_type": "code",
   "execution_count": 115,
   "metadata": {
    "ExecuteTime": {
     "end_time": "2020-01-13T05:12:23.808122Z",
     "start_time": "2020-01-13T05:12:23.292610Z"
    }
   },
   "outputs": [
    {
     "name": "stdout",
     "output_type": "stream",
     "text": [
      "<class 'bs4.BeautifulSoup'>\n"
     ]
    }
   ],
   "source": [
    "from bs4 import BeautifulSoup \n",
    "\n",
    "soup = BeautifulSoup(url_get.content,\"html.parser\")\n",
    "print(type(soup))"
   ]
  },
  {
   "cell_type": "markdown",
   "metadata": {},
   "source": [
    "## Finding the right key to scrap the data & Extracting the right information"
   ]
  },
  {
   "cell_type": "markdown",
   "metadata": {},
   "source": [
    "Find the key and put the key into the `.find()` Put all the exploring the right key at this cell. (please change this markdown with your explanation)"
   ]
  },
  {
   "cell_type": "code",
   "execution_count": 116,
   "metadata": {
    "ExecuteTime": {
     "end_time": "2020-01-13T05:12:23.878904Z",
     "start_time": "2020-01-13T05:12:23.854974Z"
    }
   },
   "outputs": [
    {
     "name": "stdout",
     "output_type": "stream",
     "text": [
      "table class=\"table table-striped table-hover table-hover-solid-row table-simple history-data\">\n",
      " <tbody>\n",
      "  <tr>\n",
      "   <td>\n",
      "    7/7/2021\n",
      "   </td>\n",
      "   <td>\n",
      "    Wednesday\n",
      "   </td>\n",
      "   <td>\n",
      "    <a href=\"/Rate/USD/IDR/7-7-2021\">\n",
      "     14,503.93654\n",
      "    </a>\n",
      "    IDR\n",
      "   </td>\n",
      "   <td class=\"text-narrow-screen-hidden\">\n",
      "    <a href=\"/Rate/USD/IDR/7-7-2021\">\n",
      "     USD IDR rate for 7/7/2021\n",
      "    </a>\n",
      "   </td>\n",
      "  </tr>\n",
      "  <tr>\n",
      "   <td>\n",
      "    7/6/2021\n",
      "   </td>\n",
      "   <td>\n",
      "    Tuesday\n",
      "   </td>\n",
      "   <td>\n",
      "    <a href=\"/Rate/USD/IDR\n"
     ]
    }
   ],
   "source": [
    "table = soup.find('table')\n",
    "print(table.prettify()[1:500])"
   ]
  },
  {
   "cell_type": "markdown",
   "metadata": {},
   "source": [
    "Do the scrapping process here (please change this markdown with your explanation)"
   ]
  },
  {
   "cell_type": "code",
   "execution_count": 117,
   "metadata": {
    "ExecuteTime": {
     "end_time": "2020-01-13T05:12:24.008256Z",
     "start_time": "2020-01-13T05:12:23.980358Z"
    }
   },
   "outputs": [
    {
     "data": {
      "text/plain": [
       "[['7/7/2021', 'Wednesday', '14,503.93654 IDR', 'USD IDR rate for 7/7/2021'],\n",
       " ['7/6/2021', 'Tuesday', '14,469.58258 IDR', 'USD IDR rate for 7/6/2021'],\n",
       " ['7/5/2021', 'Monday', '14,493.33968 IDR', 'USD IDR rate for 7/5/2021'],\n",
       " ['7/2/2021', 'Friday', '14,497.65100 IDR', 'USD IDR rate for 7/2/2021'],\n",
       " ['7/1/2021', 'Thursday', '13,270.37815 IDR', 'USD IDR rate for 7/1/2021'],\n",
       " ['6/30/2021', 'Wednesday', '14,491.89811 IDR', 'USD IDR rate for 6/30/2021'],\n",
       " ['6/29/2021', 'Tuesday', '13,215.84052 IDR', 'USD IDR rate for 6/29/2021'],\n",
       " ['6/28/2021', 'Monday', '14,439.22236 IDR', 'USD IDR rate for 6/28/2021'],\n",
       " ['6/25/2021', 'Friday', '14,426.82283 IDR', 'USD IDR rate for 6/25/2021'],\n",
       " ['6/24/2021', 'Thursday', '14,436.21247 IDR', 'USD IDR rate for 6/24/2021'],\n",
       " ['6/23/2021', 'Wednesday', '14,440.32729 IDR', 'USD IDR rate for 6/23/2021'],\n",
       " ['6/22/2021', 'Tuesday', '14,396.08712 IDR', 'USD IDR rate for 6/22/2021'],\n",
       " ['\\n\\n\\n\\n\\n\\n'],\n",
       " ['6/21/2021', 'Monday', '14,426.42481 IDR', 'USD IDR rate for 6/21/2021'],\n",
       " ['6/18/2021', 'Friday', '14,440.13691 IDR', 'USD IDR rate for 6/18/2021'],\n",
       " ['6/17/2021', 'Thursday', '14,383.75138 IDR', 'USD IDR rate for 6/17/2021'],\n",
       " ['6/16/2021', 'Wednesday', '14,376.12040 IDR', 'USD IDR rate for 6/16/2021'],\n",
       " ['6/15/2021', 'Tuesday', '14,205.14512 IDR', 'USD IDR rate for 6/15/2021'],\n",
       " ['6/14/2021', 'Monday', '14,205.68458 IDR', 'USD IDR rate for 6/14/2021'],\n",
       " ['6/11/2021', 'Friday', '14,241.97728 IDR', 'USD IDR rate for 6/11/2021'],\n",
       " ['6/10/2021', 'Thursday', '14,262.89225 IDR', 'USD IDR rate for 6/10/2021'],\n",
       " ['6/9/2021', 'Wednesday', '14,258.61758 IDR', 'USD IDR rate for 6/9/2021'],\n",
       " ['6/8/2021', 'Tuesday', '14,256.29978 IDR', 'USD IDR rate for 6/8/2021'],\n",
       " ['6/7/2021', 'Monday', '14,222.58206 IDR', 'USD IDR rate for 6/7/2021'],\n",
       " ['6/4/2021', 'Friday', '14,227.49966 IDR', 'USD IDR rate for 6/4/2021'],\n",
       " ['6/3/2021', 'Thursday', '14,353.54834 IDR', 'USD IDR rate for 6/3/2021'],\n",
       " ['6/2/2021', 'Wednesday', '14,276.29774 IDR', 'USD IDR rate for 6/2/2021'],\n",
       " ['6/1/2021', 'Tuesday', '14,274.83728 IDR', 'USD IDR rate for 6/1/2021'],\n",
       " ['5/31/2021', 'Monday', '14,238.06947 IDR', 'USD IDR rate for 5/31/2021'],\n",
       " ['5/28/2021', 'Friday', '14,283.54665 IDR', 'USD IDR rate for 5/28/2021'],\n",
       " ['5/27/2021', 'Thursday', '14,326.24811 IDR', 'USD IDR rate for 5/27/2021'],\n",
       " ['5/26/2021', 'Wednesday', '14,326.06920 IDR', 'USD IDR rate for 5/26/2021'],\n",
       " ['5/25/2021', 'Tuesday', '14,310.90309 IDR', 'USD IDR rate for 5/25/2021'],\n",
       " ['5/24/2021', 'Monday', '14,352.31470 IDR', 'USD IDR rate for 5/24/2021'],\n",
       " ['5/21/2021', 'Friday', '14,401.13572 IDR', 'USD IDR rate for 5/21/2021'],\n",
       " ['5/20/2021', 'Thursday', '14,362.81181 IDR', 'USD IDR rate for 5/20/2021'],\n",
       " ['\\n\\n\\n\\n\\n\\n'],\n",
       " ['5/19/2021', 'Wednesday', '14,270.34468 IDR', 'USD IDR rate for 5/19/2021'],\n",
       " ['5/18/2021', 'Tuesday', '14,263.79544 IDR', 'USD IDR rate for 5/18/2021'],\n",
       " ['5/17/2021', 'Monday', '14,113.45630 IDR', 'USD IDR rate for 5/17/2021'],\n",
       " ['5/14/2021', 'Friday', '14,122.81112 IDR', 'USD IDR rate for 5/14/2021'],\n",
       " ['5/13/2021', 'Thursday', '14,185.45666 IDR', 'USD IDR rate for 5/13/2021'],\n",
       " ['5/12/2021', 'Wednesday', '14,198.91195 IDR', 'USD IDR rate for 5/12/2021'],\n",
       " ['5/11/2021', 'Tuesday', '14,197.76931 IDR', 'USD IDR rate for 5/11/2021'],\n",
       " ['5/10/2021', 'Monday', '14,214.65659 IDR', 'USD IDR rate for 5/10/2021'],\n",
       " ['5/7/2021', 'Friday', '14,278.55213 IDR', 'USD IDR rate for 5/7/2021'],\n",
       " ['5/6/2021', 'Thursday', '14,302.00704 IDR', 'USD IDR rate for 5/6/2021'],\n",
       " ['5/5/2021', 'Wednesday', '14,422.43566 IDR', 'USD IDR rate for 5/5/2021'],\n",
       " ['5/4/2021', 'Tuesday', '14,424.14155 IDR', 'USD IDR rate for 5/4/2021'],\n",
       " ['5/3/2021', 'Monday', '14,436.81882 IDR', 'USD IDR rate for 5/3/2021'],\n",
       " ['4/30/2021', 'Friday', '14,444.45616 IDR', 'USD IDR rate for 4/30/2021'],\n",
       " ['4/29/2021', 'Thursday', '14,487.67389 IDR', 'USD IDR rate for 4/29/2021'],\n",
       " ['4/28/2021', 'Wednesday', '14,430.69637 IDR', 'USD IDR rate for 4/28/2021'],\n",
       " ['4/27/2021', 'Tuesday', '14,472.65266 IDR', 'USD IDR rate for 4/27/2021'],\n",
       " ['4/26/2021', 'Monday', '14,509.39683 IDR', 'USD IDR rate for 4/26/2021'],\n",
       " ['4/23/2021', 'Friday', '14,496.38365 IDR', 'USD IDR rate for 4/23/2021'],\n",
       " ['4/22/2021', 'Thursday', '14,512.83503 IDR', 'USD IDR rate for 4/22/2021'],\n",
       " ['4/21/2021', 'Wednesday', '14,502.26090 IDR', 'USD IDR rate for 4/21/2021'],\n",
       " ['4/20/2021', 'Tuesday', '14,502.50189 IDR', 'USD IDR rate for 4/20/2021'],\n",
       " ['4/19/2021', 'Monday', '14,546.21674 IDR', 'USD IDR rate for 4/19/2021'],\n",
       " ['4/16/2021', 'Friday', '14,555.47086 IDR', 'USD IDR rate for 4/16/2021'],\n",
       " ['4/15/2021', 'Thursday', '14,606.52845 IDR', 'USD IDR rate for 4/15/2021'],\n",
       " ['4/14/2021', 'Wednesday', '14,558.27832 IDR', 'USD IDR rate for 4/14/2021'],\n",
       " ['4/13/2021', 'Tuesday', '14,591.89923 IDR', 'USD IDR rate for 4/13/2021'],\n",
       " ['4/12/2021', 'Monday', '14,342.37375 IDR', 'USD IDR rate for 4/12/2021'],\n",
       " ['4/9/2021', 'Friday', '14,545.59599 IDR', 'USD IDR rate for 4/9/2021'],\n",
       " ['4/8/2021', 'Thursday', '14,470.71219 IDR', 'USD IDR rate for 4/8/2021'],\n",
       " ['4/7/2021', 'Wednesday', '14,522.66559 IDR', 'USD IDR rate for 4/7/2021'],\n",
       " ['4/6/2021', 'Tuesday', '14,426.44421 IDR', 'USD IDR rate for 4/6/2021'],\n",
       " ['4/5/2021', 'Monday', '14,431.06530 IDR', 'USD IDR rate for 4/5/2021'],\n",
       " ['4/2/2021', 'Friday', '14,525.77118 IDR', 'USD IDR rate for 4/2/2021'],\n",
       " ['4/1/2021', 'Thursday', '14,471.67828 IDR', 'USD IDR rate for 4/1/2021'],\n",
       " ['3/31/2021', 'Wednesday', '14,531.83272 IDR', 'USD IDR rate for 3/31/2021'],\n",
       " ['3/30/2021', 'Tuesday', '14,471.20821 IDR', 'USD IDR rate for 3/30/2021'],\n",
       " ['3/29/2021', 'Monday', '14,418.46962 IDR', 'USD IDR rate for 3/29/2021'],\n",
       " ['3/26/2021', 'Friday', '14,348.53269 IDR', 'USD IDR rate for 3/26/2021'],\n",
       " ['3/25/2021', 'Thursday', '14,430.27484 IDR', 'USD IDR rate for 3/25/2021'],\n",
       " ['3/24/2021', 'Wednesday', '14,440.74305 IDR', 'USD IDR rate for 3/24/2021'],\n",
       " ['3/23/2021', 'Tuesday', '14,414.95309 IDR', 'USD IDR rate for 3/23/2021'],\n",
       " ['3/22/2021', 'Monday', '14,378.72677 IDR', 'USD IDR rate for 3/22/2021'],\n",
       " ['3/19/2021', 'Friday', '14,409.66972 IDR', 'USD IDR rate for 3/19/2021'],\n",
       " ['3/18/2021', 'Thursday', '14,423.29934 IDR', 'USD IDR rate for 3/18/2021'],\n",
       " ['3/17/2021', 'Wednesday', '14,346.28612 IDR', 'USD IDR rate for 3/17/2021'],\n",
       " ['3/16/2021', 'Tuesday', '14,407.76927 IDR', 'USD IDR rate for 3/16/2021'],\n",
       " ['3/15/2021', 'Monday', '14,423.68150 IDR', 'USD IDR rate for 3/15/2021'],\n",
       " ['3/12/2021', 'Friday', '14,393.57497 IDR', 'USD IDR rate for 3/12/2021'],\n",
       " ['3/11/2021', 'Thursday', '14,319.87571 IDR', 'USD IDR rate for 3/11/2021'],\n",
       " ['3/10/2021', 'Wednesday', '14,387.89293 IDR', 'USD IDR rate for 3/10/2021'],\n",
       " ['3/9/2021', 'Tuesday', '14,396.25662 IDR', 'USD IDR rate for 3/9/2021'],\n",
       " ['3/8/2021', 'Monday', '14,374.33106 IDR', 'USD IDR rate for 3/8/2021'],\n",
       " ['3/5/2021', 'Friday', '14,292.17893 IDR', 'USD IDR rate for 3/5/2021'],\n",
       " ['3/4/2021', 'Thursday', '14,261.85426 IDR', 'USD IDR rate for 3/4/2021'],\n",
       " ['3/3/2021', 'Wednesday', '14,257.29443 IDR', 'USD IDR rate for 3/3/2021'],\n",
       " ['3/2/2021', 'Tuesday', '14,256.28041 IDR', 'USD IDR rate for 3/2/2021'],\n",
       " ['3/1/2021', 'Monday', '14,248.60576 IDR', 'USD IDR rate for 3/1/2021'],\n",
       " ['2/26/2021', 'Friday', '14,300.27815 IDR', 'USD IDR rate for 2/26/2021'],\n",
       " ['2/25/2021', 'Thursday', '14,139.73096 IDR', 'USD IDR rate for 2/25/2021'],\n",
       " ['2/24/2021', 'Wednesday', '14,083.03673 IDR', 'USD IDR rate for 2/24/2021'],\n",
       " ['2/23/2021', 'Tuesday', '14,092.64503 IDR', 'USD IDR rate for 2/23/2021'],\n",
       " ['2/22/2021', 'Monday', '14,118.07274 IDR', 'USD IDR rate for 2/22/2021'],\n",
       " ['2/19/2021', 'Friday', '14,066.79375 IDR', 'USD IDR rate for 2/19/2021'],\n",
       " ['2/18/2021', 'Thursday', '14,013.51318 IDR', 'USD IDR rate for 2/18/2021'],\n",
       " ['2/17/2021', 'Wednesday', '14,015.16095 IDR', 'USD IDR rate for 2/17/2021'],\n",
       " ['2/16/2021', 'Tuesday', '13,935.96629 IDR', 'USD IDR rate for 2/16/2021'],\n",
       " ['2/15/2021', 'Monday', '13,918.18725 IDR', 'USD IDR rate for 2/15/2021'],\n",
       " ['2/12/2021', 'Friday', '13,988.54710 IDR', 'USD IDR rate for 2/12/2021'],\n",
       " ['2/11/2021', 'Thursday', '13,982.27900 IDR', 'USD IDR rate for 2/11/2021'],\n",
       " ['2/10/2021', 'Wednesday', '13,994.09212 IDR', 'USD IDR rate for 2/10/2021'],\n",
       " ['2/9/2021', 'Tuesday', '13,920.52018 IDR', 'USD IDR rate for 2/9/2021'],\n",
       " ['2/8/2021', 'Monday', '14,007.25257 IDR', 'USD IDR rate for 2/8/2021'],\n",
       " ['2/5/2021', 'Friday', '14,008.99630 IDR', 'USD IDR rate for 2/5/2021'],\n",
       " ['2/4/2021', 'Thursday', '14,020.87878 IDR', 'USD IDR rate for 2/4/2021'],\n",
       " ['2/3/2021', 'Wednesday', '13,997.60682 IDR', 'USD IDR rate for 2/3/2021'],\n",
       " ['2/2/2021', 'Tuesday', '14,004.60175 IDR', 'USD IDR rate for 2/2/2021'],\n",
       " ['2/1/2021', 'Monday', '14,025.27450 IDR', 'USD IDR rate for 2/1/2021'],\n",
       " ['1/29/2021', 'Friday', '14,027.32457 IDR', 'USD IDR rate for 1/29/2021'],\n",
       " ['1/28/2021', 'Thursday', '14,048.06146 IDR', 'USD IDR rate for 1/28/2021'],\n",
       " ['1/27/2021', 'Wednesday', '14,048.72649 IDR', 'USD IDR rate for 1/27/2021'],\n",
       " ['1/26/2021', 'Tuesday', '14,062.91108 IDR', 'USD IDR rate for 1/26/2021'],\n",
       " ['1/25/2021', 'Monday', '14,021.11609 IDR', 'USD IDR rate for 1/25/2021'],\n",
       " ['1/22/2021', 'Friday', '14,025.60268 IDR', 'USD IDR rate for 1/22/2021'],\n",
       " ['1/21/2021', 'Thursday', '13,964.91920 IDR', 'USD IDR rate for 1/21/2021'],\n",
       " ['1/20/2021', 'Wednesday', '14,021.43046 IDR', 'USD IDR rate for 1/20/2021'],\n",
       " ['1/19/2021', 'Tuesday', '14,063.60877 IDR', 'USD IDR rate for 1/19/2021'],\n",
       " ['1/18/2021', 'Monday', '14,055.43768 IDR', 'USD IDR rate for 1/18/2021'],\n",
       " ['1/15/2021', 'Friday', '14,153.46654 IDR', 'USD IDR rate for 1/15/2021'],\n",
       " ['1/14/2021', 'Thursday', '14,070.58746 IDR', 'USD IDR rate for 1/14/2021'],\n",
       " ['1/13/2021', 'Wednesday', '14,125.90174 IDR', 'USD IDR rate for 1/13/2021'],\n",
       " ['1/12/2021', 'Tuesday', '14,074.81444 IDR', 'USD IDR rate for 1/12/2021'],\n",
       " ['1/11/2021', 'Monday', '14,137.24151 IDR', 'USD IDR rate for 1/11/2021'],\n",
       " ['1/8/2021', 'Friday', '13,991.16348 IDR', 'USD IDR rate for 1/8/2021']]"
      ]
     },
     "execution_count": 117,
     "metadata": {},
     "output_type": "execute_result"
    }
   ],
   "source": [
    "temp = [] #initiating a tuple\n",
    "baris = table.find_all('tr')\n",
    "\n",
    "for tr in baris:\n",
    "    td = tr.find_all('td')\n",
    "    row =[i.text for i in td]\n",
    "    temp.append(row)\n",
    "    \n",
    "temp"
   ]
  },
  {
   "cell_type": "markdown",
   "metadata": {},
   "source": [
    "## Creating data frame & Data wrangling"
   ]
  },
  {
   "cell_type": "markdown",
   "metadata": {},
   "source": [
    "Put the array into dataframe"
   ]
  },
  {
   "cell_type": "code",
   "execution_count": 118,
   "metadata": {
    "ExecuteTime": {
     "end_time": "2020-01-13T05:12:41.517372Z",
     "start_time": "2020-01-13T05:12:29.130015Z"
    },
    "scrolled": true
   },
   "outputs": [
    {
     "data": {
      "text/html": [
       "<div>\n",
       "<style scoped>\n",
       "    .dataframe tbody tr th:only-of-type {\n",
       "        vertical-align: middle;\n",
       "    }\n",
       "\n",
       "    .dataframe tbody tr th {\n",
       "        vertical-align: top;\n",
       "    }\n",
       "\n",
       "    .dataframe thead th {\n",
       "        text-align: right;\n",
       "    }\n",
       "</style>\n",
       "<table border=\"1\" class=\"dataframe\">\n",
       "  <thead>\n",
       "    <tr style=\"text-align: right;\">\n",
       "      <th></th>\n",
       "      <th>ExchangeDate</th>\n",
       "      <th>DayName</th>\n",
       "      <th>Price</th>\n",
       "      <th>Remarks</th>\n",
       "    </tr>\n",
       "  </thead>\n",
       "  <tbody>\n",
       "    <tr>\n",
       "      <th>0</th>\n",
       "      <td>7/7/2021</td>\n",
       "      <td>Wednesday</td>\n",
       "      <td>14,503.93654 IDR</td>\n",
       "      <td>USD IDR rate for 7/7/2021</td>\n",
       "    </tr>\n",
       "    <tr>\n",
       "      <th>1</th>\n",
       "      <td>7/6/2021</td>\n",
       "      <td>Tuesday</td>\n",
       "      <td>14,469.58258 IDR</td>\n",
       "      <td>USD IDR rate for 7/6/2021</td>\n",
       "    </tr>\n",
       "    <tr>\n",
       "      <th>2</th>\n",
       "      <td>7/5/2021</td>\n",
       "      <td>Monday</td>\n",
       "      <td>14,493.33968 IDR</td>\n",
       "      <td>USD IDR rate for 7/5/2021</td>\n",
       "    </tr>\n",
       "    <tr>\n",
       "      <th>3</th>\n",
       "      <td>7/2/2021</td>\n",
       "      <td>Friday</td>\n",
       "      <td>14,497.65100 IDR</td>\n",
       "      <td>USD IDR rate for 7/2/2021</td>\n",
       "    </tr>\n",
       "    <tr>\n",
       "      <th>4</th>\n",
       "      <td>7/1/2021</td>\n",
       "      <td>Thursday</td>\n",
       "      <td>13,270.37815 IDR</td>\n",
       "      <td>USD IDR rate for 7/1/2021</td>\n",
       "    </tr>\n",
       "  </tbody>\n",
       "</table>\n",
       "</div>"
      ],
      "text/plain": [
       "  ExchangeDate    DayName             Price                    Remarks\n",
       "0     7/7/2021  Wednesday  14,503.93654 IDR  USD IDR rate for 7/7/2021\n",
       "1     7/6/2021    Tuesday  14,469.58258 IDR  USD IDR rate for 7/6/2021\n",
       "2     7/5/2021     Monday  14,493.33968 IDR  USD IDR rate for 7/5/2021\n",
       "3     7/2/2021     Friday  14,497.65100 IDR  USD IDR rate for 7/2/2021\n",
       "4     7/1/2021   Thursday  13,270.37815 IDR  USD IDR rate for 7/1/2021"
      ]
     },
     "execution_count": 118,
     "metadata": {},
     "output_type": "execute_result"
    }
   ],
   "source": [
    "import pandas as pd\n",
    "\n",
    "df = pd.DataFrame(temp,columns =['ExchangeDate','DayName','Price','Remarks'])\n",
    "df.head()"
   ]
  },
  {
   "cell_type": "code",
   "execution_count": 119,
   "metadata": {
    "scrolled": true
   },
   "outputs": [
    {
     "data": {
      "text/html": [
       "<div>\n",
       "<style scoped>\n",
       "    .dataframe tbody tr th:only-of-type {\n",
       "        vertical-align: middle;\n",
       "    }\n",
       "\n",
       "    .dataframe tbody tr th {\n",
       "        vertical-align: top;\n",
       "    }\n",
       "\n",
       "    .dataframe thead th {\n",
       "        text-align: right;\n",
       "    }\n",
       "</style>\n",
       "<table border=\"1\" class=\"dataframe\">\n",
       "  <thead>\n",
       "    <tr style=\"text-align: right;\">\n",
       "      <th></th>\n",
       "      <th>ExchangeDate</th>\n",
       "      <th>DayName</th>\n",
       "      <th>Price</th>\n",
       "      <th>Remarks</th>\n",
       "    </tr>\n",
       "  </thead>\n",
       "  <tbody>\n",
       "    <tr>\n",
       "      <th>count</th>\n",
       "      <td>131</td>\n",
       "      <td>129</td>\n",
       "      <td>129</td>\n",
       "      <td>129</td>\n",
       "    </tr>\n",
       "    <tr>\n",
       "      <th>unique</th>\n",
       "      <td>130</td>\n",
       "      <td>5</td>\n",
       "      <td>129</td>\n",
       "      <td>129</td>\n",
       "    </tr>\n",
       "    <tr>\n",
       "      <th>top</th>\n",
       "      <td>\\n\\n\\n\\n\\n\\n</td>\n",
       "      <td>Wednesday</td>\n",
       "      <td>14,048.72649 IDR</td>\n",
       "      <td>USD IDR rate for 4/9/2021</td>\n",
       "    </tr>\n",
       "    <tr>\n",
       "      <th>freq</th>\n",
       "      <td>2</td>\n",
       "      <td>26</td>\n",
       "      <td>1</td>\n",
       "      <td>1</td>\n",
       "    </tr>\n",
       "  </tbody>\n",
       "</table>\n",
       "</div>"
      ],
      "text/plain": [
       "        ExchangeDate    DayName             Price                    Remarks\n",
       "count            131        129               129                        129\n",
       "unique           130          5               129                        129\n",
       "top     \\n\\n\\n\\n\\n\\n  Wednesday  14,048.72649 IDR  USD IDR rate for 4/9/2021\n",
       "freq               2         26                 1                          1"
      ]
     },
     "execution_count": 119,
     "metadata": {},
     "output_type": "execute_result"
    }
   ],
   "source": [
    "df.describe()"
   ]
  },
  {
   "cell_type": "code",
   "execution_count": 120,
   "metadata": {},
   "outputs": [
    {
     "data": {
      "text/html": [
       "<div>\n",
       "<style scoped>\n",
       "    .dataframe tbody tr th:only-of-type {\n",
       "        vertical-align: middle;\n",
       "    }\n",
       "\n",
       "    .dataframe tbody tr th {\n",
       "        vertical-align: top;\n",
       "    }\n",
       "\n",
       "    .dataframe thead th {\n",
       "        text-align: right;\n",
       "    }\n",
       "</style>\n",
       "<table border=\"1\" class=\"dataframe\">\n",
       "  <thead>\n",
       "    <tr style=\"text-align: right;\">\n",
       "      <th></th>\n",
       "      <th>ExchangeDate</th>\n",
       "      <th>DayName</th>\n",
       "      <th>Price</th>\n",
       "      <th>Remarks</th>\n",
       "    </tr>\n",
       "  </thead>\n",
       "  <tbody>\n",
       "    <tr>\n",
       "      <th>36</th>\n",
       "      <td>\\n\\n\\n\\n\\n\\n</td>\n",
       "      <td>None</td>\n",
       "      <td>None</td>\n",
       "      <td>None</td>\n",
       "    </tr>\n",
       "    <tr>\n",
       "      <th>12</th>\n",
       "      <td>\\n\\n\\n\\n\\n\\n</td>\n",
       "      <td>None</td>\n",
       "      <td>None</td>\n",
       "      <td>None</td>\n",
       "    </tr>\n",
       "    <tr>\n",
       "      <th>129</th>\n",
       "      <td>1/11/2021</td>\n",
       "      <td>Monday</td>\n",
       "      <td>14,137.24151 IDR</td>\n",
       "      <td>USD IDR rate for 1/11/2021</td>\n",
       "    </tr>\n",
       "    <tr>\n",
       "      <th>128</th>\n",
       "      <td>1/12/2021</td>\n",
       "      <td>Tuesday</td>\n",
       "      <td>14,074.81444 IDR</td>\n",
       "      <td>USD IDR rate for 1/12/2021</td>\n",
       "    </tr>\n",
       "    <tr>\n",
       "      <th>127</th>\n",
       "      <td>1/13/2021</td>\n",
       "      <td>Wednesday</td>\n",
       "      <td>14,125.90174 IDR</td>\n",
       "      <td>USD IDR rate for 1/13/2021</td>\n",
       "    </tr>\n",
       "    <tr>\n",
       "      <th>...</th>\n",
       "      <td>...</td>\n",
       "      <td>...</td>\n",
       "      <td>...</td>\n",
       "      <td>...</td>\n",
       "    </tr>\n",
       "    <tr>\n",
       "      <th>4</th>\n",
       "      <td>7/1/2021</td>\n",
       "      <td>Thursday</td>\n",
       "      <td>13,270.37815 IDR</td>\n",
       "      <td>USD IDR rate for 7/1/2021</td>\n",
       "    </tr>\n",
       "    <tr>\n",
       "      <th>3</th>\n",
       "      <td>7/2/2021</td>\n",
       "      <td>Friday</td>\n",
       "      <td>14,497.65100 IDR</td>\n",
       "      <td>USD IDR rate for 7/2/2021</td>\n",
       "    </tr>\n",
       "    <tr>\n",
       "      <th>2</th>\n",
       "      <td>7/5/2021</td>\n",
       "      <td>Monday</td>\n",
       "      <td>14,493.33968 IDR</td>\n",
       "      <td>USD IDR rate for 7/5/2021</td>\n",
       "    </tr>\n",
       "    <tr>\n",
       "      <th>1</th>\n",
       "      <td>7/6/2021</td>\n",
       "      <td>Tuesday</td>\n",
       "      <td>14,469.58258 IDR</td>\n",
       "      <td>USD IDR rate for 7/6/2021</td>\n",
       "    </tr>\n",
       "    <tr>\n",
       "      <th>0</th>\n",
       "      <td>7/7/2021</td>\n",
       "      <td>Wednesday</td>\n",
       "      <td>14,503.93654 IDR</td>\n",
       "      <td>USD IDR rate for 7/7/2021</td>\n",
       "    </tr>\n",
       "  </tbody>\n",
       "</table>\n",
       "<p>131 rows × 4 columns</p>\n",
       "</div>"
      ],
      "text/plain": [
       "     ExchangeDate    DayName             Price                     Remarks\n",
       "36   \\n\\n\\n\\n\\n\\n       None              None                        None\n",
       "12   \\n\\n\\n\\n\\n\\n       None              None                        None\n",
       "129     1/11/2021     Monday  14,137.24151 IDR  USD IDR rate for 1/11/2021\n",
       "128     1/12/2021    Tuesday  14,074.81444 IDR  USD IDR rate for 1/12/2021\n",
       "127     1/13/2021  Wednesday  14,125.90174 IDR  USD IDR rate for 1/13/2021\n",
       "..            ...        ...               ...                         ...\n",
       "4        7/1/2021   Thursday  13,270.37815 IDR   USD IDR rate for 7/1/2021\n",
       "3        7/2/2021     Friday  14,497.65100 IDR   USD IDR rate for 7/2/2021\n",
       "2        7/5/2021     Monday  14,493.33968 IDR   USD IDR rate for 7/5/2021\n",
       "1        7/6/2021    Tuesday  14,469.58258 IDR   USD IDR rate for 7/6/2021\n",
       "0        7/7/2021  Wednesday  14,503.93654 IDR   USD IDR rate for 7/7/2021\n",
       "\n",
       "[131 rows x 4 columns]"
      ]
     },
     "execution_count": 120,
     "metadata": {},
     "output_type": "execute_result"
    }
   ],
   "source": [
    "#split colom remarks make 2 kolom remark and transDate\n",
    "# df[['Remarks','TransDate']] = df['Remarks'].apply(lambda x: pd.Series(str(x).split('for')))\n",
    "# df\n",
    "df.sort_values(by='ExchangeDate')"
   ]
  },
  {
   "cell_type": "code",
   "execution_count": 121,
   "metadata": {},
   "outputs": [
    {
     "data": {
      "text/html": [
       "<div>\n",
       "<style scoped>\n",
       "    .dataframe tbody tr th:only-of-type {\n",
       "        vertical-align: middle;\n",
       "    }\n",
       "\n",
       "    .dataframe tbody tr th {\n",
       "        vertical-align: top;\n",
       "    }\n",
       "\n",
       "    .dataframe thead th {\n",
       "        text-align: right;\n",
       "    }\n",
       "</style>\n",
       "<table border=\"1\" class=\"dataframe\">\n",
       "  <thead>\n",
       "    <tr style=\"text-align: right;\">\n",
       "      <th></th>\n",
       "      <th>ExchangeDate</th>\n",
       "      <th>DayName</th>\n",
       "      <th>Price</th>\n",
       "      <th>Remarks</th>\n",
       "    </tr>\n",
       "  </thead>\n",
       "  <tbody>\n",
       "    <tr>\n",
       "      <th>count</th>\n",
       "      <td>129</td>\n",
       "      <td>129</td>\n",
       "      <td>129</td>\n",
       "      <td>129</td>\n",
       "    </tr>\n",
       "    <tr>\n",
       "      <th>unique</th>\n",
       "      <td>129</td>\n",
       "      <td>5</td>\n",
       "      <td>129</td>\n",
       "      <td>129</td>\n",
       "    </tr>\n",
       "    <tr>\n",
       "      <th>top</th>\n",
       "      <td>5/18/2021</td>\n",
       "      <td>Wednesday</td>\n",
       "      <td>14,048.72649 IDR</td>\n",
       "      <td>USD IDR rate for 4/9/2021</td>\n",
       "    </tr>\n",
       "    <tr>\n",
       "      <th>freq</th>\n",
       "      <td>1</td>\n",
       "      <td>26</td>\n",
       "      <td>1</td>\n",
       "      <td>1</td>\n",
       "    </tr>\n",
       "  </tbody>\n",
       "</table>\n",
       "</div>"
      ],
      "text/plain": [
       "       ExchangeDate    DayName             Price                    Remarks\n",
       "count           129        129               129                        129\n",
       "unique          129          5               129                        129\n",
       "top       5/18/2021  Wednesday  14,048.72649 IDR  USD IDR rate for 4/9/2021\n",
       "freq              1         26                 1                          1"
      ]
     },
     "execution_count": 121,
     "metadata": {},
     "output_type": "execute_result"
    }
   ],
   "source": [
    "#drop wrong data\n",
    "df=df.dropna(how='any')\n",
    "df.describe()"
   ]
  },
  {
   "cell_type": "markdown",
   "metadata": {},
   "source": [
    "Do the data cleaning here (please change this markdown with your explanation of what you do for data wrangling)"
   ]
  },
  {
   "cell_type": "code",
   "execution_count": 122,
   "metadata": {
    "ExecuteTime": {
     "end_time": "2020-01-13T05:12:59.165559Z",
     "start_time": "2020-01-13T05:12:58.910012Z"
    }
   },
   "outputs": [
    {
     "data": {
      "text/plain": [
       "ExchangeDate    datetime64[ns]\n",
       "DayName               category\n",
       "Price                  float64\n",
       "Remarks                 object\n",
       "dtype: object"
      ]
     },
     "execution_count": 122,
     "metadata": {},
     "output_type": "execute_result"
    }
   ],
   "source": [
    "#TODO :\n",
    "# Change ExchangeDate to datetime64 data type\n",
    "df[['ExchangeDate']] = df[['ExchangeDate']].astype('datetime64')\n",
    "# Change DayName to Category data type\n",
    "df['DayName'] = df['DayName'].astype('category')\n",
    "# # Remove or split Price column for IDR and change Price to float64 data type\n",
    "df['Price'] = df['Price'].str.replace('IDR','')\n",
    "df['Price'] = df['Price'].str.replace(',','')\n",
    "df['Price'] = df['Price'].astype('float64')\n",
    "df.dtypes"
   ]
  },
  {
   "cell_type": "code",
   "execution_count": 123,
   "metadata": {},
   "outputs": [
    {
     "data": {
      "text/plain": [
       "ExchangeDate    datetime64[ns]\n",
       "DayName               category\n",
       "Price                  float64\n",
       "dtype: object"
      ]
     },
     "execution_count": 123,
     "metadata": {},
     "output_type": "execute_result"
    }
   ],
   "source": [
    "# Drop remark columns - optional\n",
    "df=df.drop('Remarks',axis=1)\n",
    "df.dtypes"
   ]
  },
  {
   "cell_type": "code",
   "execution_count": 124,
   "metadata": {},
   "outputs": [
    {
     "data": {
      "text/html": [
       "<div>\n",
       "<style scoped>\n",
       "    .dataframe tbody tr th:only-of-type {\n",
       "        vertical-align: middle;\n",
       "    }\n",
       "\n",
       "    .dataframe tbody tr th {\n",
       "        vertical-align: top;\n",
       "    }\n",
       "\n",
       "    .dataframe thead th {\n",
       "        text-align: right;\n",
       "    }\n",
       "</style>\n",
       "<table border=\"1\" class=\"dataframe\">\n",
       "  <thead>\n",
       "    <tr style=\"text-align: right;\">\n",
       "      <th></th>\n",
       "      <th>DayName</th>\n",
       "      <th>Price</th>\n",
       "    </tr>\n",
       "    <tr>\n",
       "      <th>ExchangeDate</th>\n",
       "      <th></th>\n",
       "      <th></th>\n",
       "    </tr>\n",
       "  </thead>\n",
       "  <tbody>\n",
       "    <tr>\n",
       "      <th>2021-07-07</th>\n",
       "      <td>Wednesday</td>\n",
       "      <td>14503.93654</td>\n",
       "    </tr>\n",
       "    <tr>\n",
       "      <th>2021-07-06</th>\n",
       "      <td>Tuesday</td>\n",
       "      <td>14469.58258</td>\n",
       "    </tr>\n",
       "    <tr>\n",
       "      <th>2021-07-05</th>\n",
       "      <td>Monday</td>\n",
       "      <td>14493.33968</td>\n",
       "    </tr>\n",
       "    <tr>\n",
       "      <th>2021-07-02</th>\n",
       "      <td>Friday</td>\n",
       "      <td>14497.65100</td>\n",
       "    </tr>\n",
       "    <tr>\n",
       "      <th>2021-07-01</th>\n",
       "      <td>Thursday</td>\n",
       "      <td>13270.37815</td>\n",
       "    </tr>\n",
       "    <tr>\n",
       "      <th>...</th>\n",
       "      <td>...</td>\n",
       "      <td>...</td>\n",
       "    </tr>\n",
       "    <tr>\n",
       "      <th>2021-01-14</th>\n",
       "      <td>Thursday</td>\n",
       "      <td>14070.58746</td>\n",
       "    </tr>\n",
       "    <tr>\n",
       "      <th>2021-01-13</th>\n",
       "      <td>Wednesday</td>\n",
       "      <td>14125.90174</td>\n",
       "    </tr>\n",
       "    <tr>\n",
       "      <th>2021-01-12</th>\n",
       "      <td>Tuesday</td>\n",
       "      <td>14074.81444</td>\n",
       "    </tr>\n",
       "    <tr>\n",
       "      <th>2021-01-11</th>\n",
       "      <td>Monday</td>\n",
       "      <td>14137.24151</td>\n",
       "    </tr>\n",
       "    <tr>\n",
       "      <th>2021-01-08</th>\n",
       "      <td>Friday</td>\n",
       "      <td>13991.16348</td>\n",
       "    </tr>\n",
       "  </tbody>\n",
       "</table>\n",
       "<p>129 rows × 2 columns</p>\n",
       "</div>"
      ],
      "text/plain": [
       "                DayName        Price\n",
       "ExchangeDate                        \n",
       "2021-07-07    Wednesday  14503.93654\n",
       "2021-07-06      Tuesday  14469.58258\n",
       "2021-07-05       Monday  14493.33968\n",
       "2021-07-02       Friday  14497.65100\n",
       "2021-07-01     Thursday  13270.37815\n",
       "...                 ...          ...\n",
       "2021-01-14     Thursday  14070.58746\n",
       "2021-01-13    Wednesday  14125.90174\n",
       "2021-01-12      Tuesday  14074.81444\n",
       "2021-01-11       Monday  14137.24151\n",
       "2021-01-08       Friday  13991.16348\n",
       "\n",
       "[129 rows x 2 columns]"
      ]
     },
     "execution_count": 124,
     "metadata": {},
     "output_type": "execute_result"
    }
   ],
   "source": [
    "#Create Exchangedate as column index\n",
    "df = df.set_index('ExchangeDate')\n",
    "df"
   ]
  },
  {
   "cell_type": "code",
   "execution_count": 138,
   "metadata": {},
   "outputs": [
    {
     "data": {
      "text/plain": [
       "<AxesSubplot:xlabel='ExchangeDate'>"
      ]
     },
     "execution_count": 138,
     "metadata": {},
     "output_type": "execute_result"
    },
    {
     "data": {
      "image/png": "[encoded data removed]",
      "text/plain": [
       "<Figure size 432x288 with 1 Axes>"
      ]
     },
     "metadata": {
      "needs_background": "light"
     },
     "output_type": "display_data"
    }
   ],
   "source": [
    "df.plot()"
   ]
  },
  {
   "cell_type": "markdown",
   "metadata": {},
   "source": [
    "### Implementing your webscrapping to the flask dashboard\n",
    "\n",
    "- Copy paste all of your web scrapping process to the desired position on the `app.py`\n",
    "- Changing the title of the dasboard at `index.html`"
   ]
  },
  {
   "cell_type": "markdown",
   "metadata": {},
   "source": [
    "## Finishing This Notebook with Your Analysis and Conclusion\n",
    "\n",
    "First you can do start with making the data visualisation. "
   ]
  },
  {
   "cell_type": "code",
   "execution_count": 129,
   "metadata": {
    "ExecuteTime": {
     "end_time": "2020-01-13T05:20:56.208237Z",
     "start_time": "2020-01-13T05:20:56.076043Z"
    }
   },
   "outputs": [
    {
     "data": {
      "text/html": [
       "<div>\n",
       "<style scoped>\n",
       "    .dataframe tbody tr th:only-of-type {\n",
       "        vertical-align: middle;\n",
       "    }\n",
       "\n",
       "    .dataframe tbody tr th {\n",
       "        vertical-align: top;\n",
       "    }\n",
       "\n",
       "    .dataframe thead th {\n",
       "        text-align: right;\n",
       "    }\n",
       "</style>\n",
       "<table border=\"1\" class=\"dataframe\">\n",
       "  <thead>\n",
       "    <tr style=\"text-align: right;\">\n",
       "      <th></th>\n",
       "      <th>DayName</th>\n",
       "      <th>Price</th>\n",
       "    </tr>\n",
       "    <tr>\n",
       "      <th>ExchangeDate</th>\n",
       "      <th></th>\n",
       "      <th></th>\n",
       "    </tr>\n",
       "  </thead>\n",
       "  <tbody>\n",
       "    <tr>\n",
       "      <th>2021-01-05</th>\n",
       "      <td>NaN</td>\n",
       "      <td>NaN</td>\n",
       "    </tr>\n",
       "    <tr>\n",
       "      <th>2021-01-06</th>\n",
       "      <td>NaN</td>\n",
       "      <td>NaN</td>\n",
       "    </tr>\n",
       "    <tr>\n",
       "      <th>2021-01-07</th>\n",
       "      <td>NaN</td>\n",
       "      <td>NaN</td>\n",
       "    </tr>\n",
       "    <tr>\n",
       "      <th>2021-01-08</th>\n",
       "      <td>Friday</td>\n",
       "      <td>13991.16348</td>\n",
       "    </tr>\n",
       "    <tr>\n",
       "      <th>2021-01-09</th>\n",
       "      <td>NaN</td>\n",
       "      <td>NaN</td>\n",
       "    </tr>\n",
       "    <tr>\n",
       "      <th>...</th>\n",
       "      <td>...</td>\n",
       "      <td>...</td>\n",
       "    </tr>\n",
       "    <tr>\n",
       "      <th>2021-07-01</th>\n",
       "      <td>Thursday</td>\n",
       "      <td>13270.37815</td>\n",
       "    </tr>\n",
       "    <tr>\n",
       "      <th>2021-07-02</th>\n",
       "      <td>Friday</td>\n",
       "      <td>14497.65100</td>\n",
       "    </tr>\n",
       "    <tr>\n",
       "      <th>2021-07-03</th>\n",
       "      <td>NaN</td>\n",
       "      <td>NaN</td>\n",
       "    </tr>\n",
       "    <tr>\n",
       "      <th>2021-07-04</th>\n",
       "      <td>NaN</td>\n",
       "      <td>NaN</td>\n",
       "    </tr>\n",
       "    <tr>\n",
       "      <th>2021-07-05</th>\n",
       "      <td>Monday</td>\n",
       "      <td>14493.33968</td>\n",
       "    </tr>\n",
       "  </tbody>\n",
       "</table>\n",
       "<p>182 rows × 2 columns</p>\n",
       "</div>"
      ],
      "text/plain": [
       "               DayName        Price\n",
       "ExchangeDate                       \n",
       "2021-01-05         NaN          NaN\n",
       "2021-01-06         NaN          NaN\n",
       "2021-01-07         NaN          NaN\n",
       "2021-01-08      Friday  13991.16348\n",
       "2021-01-09         NaN          NaN\n",
       "...                ...          ...\n",
       "2021-07-01    Thursday  13270.37815\n",
       "2021-07-02      Friday  14497.65100\n",
       "2021-07-03         NaN          NaN\n",
       "2021-07-04         NaN          NaN\n",
       "2021-07-05      Monday  14493.33968\n",
       "\n",
       "[182 rows x 2 columns]"
      ]
     },
     "execution_count": 129,
     "metadata": {},
     "output_type": "execute_result"
    }
   ],
   "source": [
    "#create time series for exchangeDate\n",
    "FullDate = pd.date_range(start='2021-01-05',end='2021-07-05')\n",
    "df = df.reindex(FullDate)\n",
    "df = df.reset_index().rename(columns={'index':'ExchangeDate'})\n",
    "df.set_index('ExchangeDate')"
   ]
  },
  {
   "cell_type": "code",
   "execution_count": 130,
   "metadata": {
    "scrolled": true
   },
   "outputs": [
    {
     "data": {
      "text/html": [
       "<div>\n",
       "<style scoped>\n",
       "    .dataframe tbody tr th:only-of-type {\n",
       "        vertical-align: middle;\n",
       "    }\n",
       "\n",
       "    .dataframe tbody tr th {\n",
       "        vertical-align: top;\n",
       "    }\n",
       "\n",
       "    .dataframe thead th {\n",
       "        text-align: right;\n",
       "    }\n",
       "</style>\n",
       "<table border=\"1\" class=\"dataframe\">\n",
       "  <thead>\n",
       "    <tr style=\"text-align: right;\">\n",
       "      <th></th>\n",
       "      <th>DayName</th>\n",
       "      <th>Price</th>\n",
       "    </tr>\n",
       "    <tr>\n",
       "      <th>ExchangeDate</th>\n",
       "      <th></th>\n",
       "      <th></th>\n",
       "    </tr>\n",
       "  </thead>\n",
       "  <tbody>\n",
       "    <tr>\n",
       "      <th>2021-01-05</th>\n",
       "      <td>Tuesday</td>\n",
       "      <td>13991.16348</td>\n",
       "    </tr>\n",
       "    <tr>\n",
       "      <th>2021-01-06</th>\n",
       "      <td>Wednesday</td>\n",
       "      <td>13991.16348</td>\n",
       "    </tr>\n",
       "    <tr>\n",
       "      <th>2021-01-07</th>\n",
       "      <td>Thursday</td>\n",
       "      <td>13991.16348</td>\n",
       "    </tr>\n",
       "    <tr>\n",
       "      <th>2021-01-08</th>\n",
       "      <td>Friday</td>\n",
       "      <td>13991.16348</td>\n",
       "    </tr>\n",
       "    <tr>\n",
       "      <th>2021-01-09</th>\n",
       "      <td>Saturday</td>\n",
       "      <td>14137.24151</td>\n",
       "    </tr>\n",
       "    <tr>\n",
       "      <th>...</th>\n",
       "      <td>...</td>\n",
       "      <td>...</td>\n",
       "    </tr>\n",
       "    <tr>\n",
       "      <th>2021-07-01</th>\n",
       "      <td>Thursday</td>\n",
       "      <td>13270.37815</td>\n",
       "    </tr>\n",
       "    <tr>\n",
       "      <th>2021-07-02</th>\n",
       "      <td>Friday</td>\n",
       "      <td>14497.65100</td>\n",
       "    </tr>\n",
       "    <tr>\n",
       "      <th>2021-07-03</th>\n",
       "      <td>Saturday</td>\n",
       "      <td>14493.33968</td>\n",
       "    </tr>\n",
       "    <tr>\n",
       "      <th>2021-07-04</th>\n",
       "      <td>Sunday</td>\n",
       "      <td>14493.33968</td>\n",
       "    </tr>\n",
       "    <tr>\n",
       "      <th>2021-07-05</th>\n",
       "      <td>Monday</td>\n",
       "      <td>14493.33968</td>\n",
       "    </tr>\n",
       "  </tbody>\n",
       "</table>\n",
       "<p>182 rows × 2 columns</p>\n",
       "</div>"
      ],
      "text/plain": [
       "                DayName        Price\n",
       "ExchangeDate                        \n",
       "2021-01-05      Tuesday  13991.16348\n",
       "2021-01-06    Wednesday  13991.16348\n",
       "2021-01-07     Thursday  13991.16348\n",
       "2021-01-08       Friday  13991.16348\n",
       "2021-01-09     Saturday  14137.24151\n",
       "...                 ...          ...\n",
       "2021-07-01     Thursday  13270.37815\n",
       "2021-07-02       Friday  14497.65100\n",
       "2021-07-03     Saturday  14493.33968\n",
       "2021-07-04       Sunday  14493.33968\n",
       "2021-07-05       Monday  14493.33968\n",
       "\n",
       "[182 rows x 2 columns]"
      ]
     },
     "execution_count": 130,
     "metadata": {},
     "output_type": "execute_result"
    }
   ],
   "source": [
    "#TODO:\n",
    "#Fill Column DayName based on ExchangeDate\n",
    "df['DayName'] = df['ExchangeDate'].dt.day_name()\n",
    "\n",
    "#Fill Column Price with row price before\n",
    "df['Price']= df['Price'].fillna(method='bfill').fillna(method='ffill')\n",
    "df = df.set_index('ExchangeDate')\n",
    "df"
   ]
  },
  {
   "cell_type": "code",
   "execution_count": 159,
   "metadata": {},
   "outputs": [
    {
     "data": {
      "text/plain": [
       "<AxesSubplot:xlabel='ExchangeDate'>"
      ]
     },
     "execution_count": 159,
     "metadata": {},
     "output_type": "execute_result"
    },
    {
     "data": {
      "image/png": "[encoded data removed]",
      "text/plain": [
       "<Figure size 3600x288 with 1 Axes>"
      ]
     },
     "metadata": {
      "needs_background": "light"
     },
     "output_type": "display_data"
    }
   ],
   "source": [
    "df.plot(figsize=(50,4), rot='vertical')"
   ]
  },
  {
   "cell_type": "code",
   "execution_count": 149,
   "metadata": {},
   "outputs": [
    {
     "data": {
      "text/plain": [
       "<AxesSubplot:>"
      ]
     },
     "execution_count": 149,
     "metadata": {},
     "output_type": "execute_result"
    },
    {
     "data": {
      "image/png": "[encoded data removed]",
      "text/plain": [
       "<Figure size 432x288 with 1 Axes>"
      ]
     },
     "metadata": {
      "needs_background": "light"
     },
     "output_type": "display_data"
    }
   ],
   "source": [
    "df.groupby('DayName').agg(['mean']).plot(kind='box',vert=False)"
   ]
  },
  {
   "cell_type": "markdown",
   "metadata": {},
   "source": [
    "\n",
    "(Put your analysis and conclusion here.)"
   ]
  },
  {
   "cell_type": "markdown",
   "metadata": {},
   "source": [
    "### Extra Challange\n",
    "\n",
    "This will be not included to the scoring. \n",
    "\n",
    "- You can create additional analysis from the data.\n",
    "- Implement it to the dashboard with at `app.py` dan `index.html`."
   ]
  }
 ],
 "metadata": {
  "kernelspec": {
   "display_name": "capstone_da",
   "language": "python",
   "name": "capstone_da"
  },
  "language_info": {
   "codemirror_mode": {
    "name": "ipython",
    "version": 3
   },
   "file_extension": ".py",
   "mimetype": "text/x-python",
   "name": "python",
   "nbconvert_exporter": "python",
   "pygments_lexer": "ipython3",
   "version": "3.8.10"
  },
  "toc": {
   "base_numbering": 1,
   "nav_menu": {},
   "number_sections": true,
   "sideBar": true,
   "skip_h1_title": false,
   "title_cell": "Table of Contents",
   "title_sidebar": "Contents",
   "toc_cell": false,
   "toc_position": {},
   "toc_section_display": true,
   "toc_window_display": true
  }
 },
 "nbformat": 4,
 "nbformat_minor": 2
}
